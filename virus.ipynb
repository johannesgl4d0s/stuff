{
 "cells": [
  {
   "cell_type": "code",
   "execution_count": 4,
   "metadata": {
    "collapsed": true,
    "ExecuteTime": {
     "end_time": "2023-05-20T11:08:45.376107800Z",
     "start_time": "2023-05-20T11:08:45.344317500Z"
    }
   },
   "outputs": [],
   "source": [
    "test_acc = 0.98\n",
    "P_cancer = 0.04\n"
   ]
  },
  {
   "cell_type": "code",
   "execution_count": 2,
   "outputs": [],
   "source": [
    "def m_terst(test_acc, P_cancer):\n",
    "\n",
    "    P_c_pos = (test_acc * P_cancer) / (2*test_acc * P_cancer +1 - test_acc - P_cancer )\n",
    "\n",
    "    return P_c_pos"
   ],
   "metadata": {
    "collapsed": false,
    "ExecuteTime": {
     "end_time": "2023-05-20T11:07:46.263495900Z",
     "start_time": "2023-05-20T11:07:46.250920500Z"
    }
   }
  },
  {
   "cell_type": "code",
   "execution_count": 5,
   "outputs": [
    {
     "data": {
      "text/plain": "0.6712328767123282"
     },
     "execution_count": 5,
     "metadata": {},
     "output_type": "execute_result"
    }
   ],
   "source": [
    "x = m_terst(test_acc, P_cancer)\n",
    "x"
   ],
   "metadata": {
    "collapsed": false,
    "ExecuteTime": {
     "end_time": "2023-05-20T11:08:47.949515400Z",
     "start_time": "2023-05-20T11:08:47.936501100Z"
    }
   }
  },
  {
   "cell_type": "code",
   "execution_count": 6,
   "outputs": [
    {
     "data": {
      "text/plain": "0.32876712328767144"
     },
     "execution_count": 6,
     "metadata": {},
     "output_type": "execute_result"
    }
   ],
   "source": [
    "t2 = 1- test_acc\n",
    "p2 = 1 -P_cancer\n",
    "\n",
    "x = m_terst(t2, p2)\n",
    "x"
   ],
   "metadata": {
    "collapsed": false,
    "ExecuteTime": {
     "end_time": "2023-05-20T11:10:18.116477800Z",
     "start_time": "2023-05-20T11:10:18.100794900Z"
    }
   }
  },
  {
   "cell_type": "code",
   "execution_count": null,
   "outputs": [],
   "source": [],
   "metadata": {
    "collapsed": false
   }
  }
 ],
 "metadata": {
  "kernelspec": {
   "display_name": "Python 3",
   "language": "python",
   "name": "python3"
  },
  "language_info": {
   "codemirror_mode": {
    "name": "ipython",
    "version": 2
   },
   "file_extension": ".py",
   "mimetype": "text/x-python",
   "name": "python",
   "nbconvert_exporter": "python",
   "pygments_lexer": "ipython2",
   "version": "2.7.6"
  }
 },
 "nbformat": 4,
 "nbformat_minor": 0
}
