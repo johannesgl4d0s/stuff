{
 "cells": [
  {
   "cell_type": "code",
   "execution_count": 6,
   "outputs": [],
   "source": [
    "import random"
   ],
   "metadata": {
    "collapsed": false
   }
  },
  {
   "cell_type": "code",
   "execution_count": 7,
   "outputs": [
    {
     "data": {
      "text/plain": "35.00599510554897"
     },
     "execution_count": 7,
     "metadata": {},
     "output_type": "execute_result"
    }
   ],
   "source": [
    "# calculating mean dmg of group based on amor class\n",
    "dmg_luki = []\n",
    "dmg_phil = []\n",
    "dmg_coti = []\n",
    "dmg_stef = []\n",
    "dmg_manu = []\n",
    "ac = 18\n",
    "\n",
    "for i in range(100000):\n",
    "    b = random.randint(1,20)\n",
    "    if b == 20:\n",
    "        pass\n",
    "    elif (b + 5) > ac:\n",
    "        a = random.randint(1,10)\n",
    "        dmg_luki.append(a+5)\n",
    "    c = random.randint(1,20)\n",
    "    if c == 20:\n",
    "        pass\n",
    "    elif (c + 5) > ac:\n",
    "        a = random.randint(1,8)\n",
    "        dmg_phil.append(a+5)\n",
    "    d = random.randint(1,20)\n",
    "    if d == 20:\n",
    "        pass\n",
    "    elif d > ac:\n",
    "        a = random.randint(1,6)\n",
    "        dmg_coti.append(a+1)\n",
    "    e = random.randint(1,20)\n",
    "    if e == 20:\n",
    "        pass\n",
    "    elif e > ac:\n",
    "        a = random.randint(1,4)\n",
    "        dmg_stef.append(a+1)\n",
    "    f = random.randint(1,20)\n",
    "    if f == 20:\n",
    "        pass\n",
    "    elif (f+1) > ac:\n",
    "        a = random.randint(1,4)\n",
    "        b = random.randint(1,4)\n",
    "        dmg_manu.append((a+b+2))\n",
    "\n",
    "sum(dmg_luki)/len(dmg_luki)+sum(dmg_phil)/len(dmg_phil)+sum(dmg_coti)/len(dmg_coti)+sum(dmg_stef)/len(dmg_stef)+sum(dmg_manu)/len(dmg_manu)"
   ],
   "metadata": {
    "collapsed": false
   }
  },
  {
   "cell_type": "code",
   "execution_count": 49,
   "outputs": [],
   "source": [],
   "metadata": {
    "collapsed": false
   }
  },
  {
   "cell_type": "code",
   "execution_count": 49,
   "outputs": [],
   "source": [],
   "metadata": {
    "collapsed": false
   }
  },
  {
   "cell_type": "code",
   "execution_count": null,
   "outputs": [],
   "source": [],
   "metadata": {
    "collapsed": false
   }
  }
 ],
 "metadata": {
  "kernelspec": {
   "display_name": "Python 3",
   "language": "python",
   "name": "python3"
  },
  "language_info": {
   "codemirror_mode": {
    "name": "ipython",
    "version": 2
   },
   "file_extension": ".py",
   "mimetype": "text/x-python",
   "name": "python",
   "nbconvert_exporter": "python",
   "pygments_lexer": "ipython2",
   "version": "2.7.6"
  }
 },
 "nbformat": 4,
 "nbformat_minor": 0
}
