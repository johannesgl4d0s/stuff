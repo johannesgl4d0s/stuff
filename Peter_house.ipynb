{
 "cells": [
  {
   "cell_type": "code",
   "execution_count": 1,
   "metadata": {
    "collapsed": true,
    "ExecuteTime": {
     "end_time": "2023-05-20T10:25:14.813207500Z",
     "start_time": "2023-05-20T10:25:10.703257400Z"
    }
   },
   "outputs": [],
   "source": [
    "import pandas as pd\n",
    "import numpy as np\n",
    "from sklearn.preprocessing import StandardScaler\n",
    "from sklearn.neighbors import KNeighborsClassifier\n",
    "from sklearn.model_selection import train_test_split"
   ]
  },
  {
   "cell_type": "code",
   "execution_count": 6,
   "outputs": [
    {
     "data": {
      "text/plain": "   age  Income  target\n0   23   50000       0\n1   37   34000       0\n2   48   40000       1\n3   52   30000       0\n4   28   95000       1\n5   25   78000       0\n6   35  130000       1\n7   32  105000       1\n8   20  100000       0\n9   40   60000       1",
      "text/html": "<div>\n<style scoped>\n    .dataframe tbody tr th:only-of-type {\n        vertical-align: middle;\n    }\n\n    .dataframe tbody tr th {\n        vertical-align: top;\n    }\n\n    .dataframe thead th {\n        text-align: right;\n    }\n</style>\n<table border=\"1\" class=\"dataframe\">\n  <thead>\n    <tr style=\"text-align: right;\">\n      <th></th>\n      <th>age</th>\n      <th>Income</th>\n      <th>target</th>\n    </tr>\n  </thead>\n  <tbody>\n    <tr>\n      <th>0</th>\n      <td>23</td>\n      <td>50000</td>\n      <td>0</td>\n    </tr>\n    <tr>\n      <th>1</th>\n      <td>37</td>\n      <td>34000</td>\n      <td>0</td>\n    </tr>\n    <tr>\n      <th>2</th>\n      <td>48</td>\n      <td>40000</td>\n      <td>1</td>\n    </tr>\n    <tr>\n      <th>3</th>\n      <td>52</td>\n      <td>30000</td>\n      <td>0</td>\n    </tr>\n    <tr>\n      <th>4</th>\n      <td>28</td>\n      <td>95000</td>\n      <td>1</td>\n    </tr>\n    <tr>\n      <th>5</th>\n      <td>25</td>\n      <td>78000</td>\n      <td>0</td>\n    </tr>\n    <tr>\n      <th>6</th>\n      <td>35</td>\n      <td>130000</td>\n      <td>1</td>\n    </tr>\n    <tr>\n      <th>7</th>\n      <td>32</td>\n      <td>105000</td>\n      <td>1</td>\n    </tr>\n    <tr>\n      <th>8</th>\n      <td>20</td>\n      <td>100000</td>\n      <td>0</td>\n    </tr>\n    <tr>\n      <th>9</th>\n      <td>40</td>\n      <td>60000</td>\n      <td>1</td>\n    </tr>\n  </tbody>\n</table>\n</div>"
     },
     "execution_count": 6,
     "metadata": {},
     "output_type": "execute_result"
    }
   ],
   "source": [
    "data = {'age' : [23,37,48,52,28,25,35,32,20,40],\n",
    "        'Income' : [50000,34000,40000,30000,95000,78000,130000,105000,100000,60000],\n",
    "        'target': [0,0,1,0,1,0,1,1,0,1]}\n",
    "\n",
    "df = pd.DataFrame(data)\n",
    "\n",
    "df"
   ],
   "metadata": {
    "collapsed": false,
    "ExecuteTime": {
     "end_time": "2023-05-20T10:32:21.645180900Z",
     "start_time": "2023-05-20T10:32:21.613961700Z"
    }
   }
  },
  {
   "cell_type": "code",
   "execution_count": 35,
   "outputs": [],
   "source": [
    "def get_normalized_X_y(df_test):\n",
    "    df_test.dropna(inplace=True)\n",
    "    scaler = StandardScaler()\n",
    "    scaler.fit(df_test.drop('target', axis=1))\n",
    "    scaled_features = scaler.transform(df_test.drop('target',axis=1))\n",
    "    df_test_feat = pd.DataFrame(scaled_features, columns = df_test.columns[:-1])\n",
    "    y = df_test.iloc[:,-1].squeeze()\n",
    "    X = df_test_feat\n",
    "    return X, y"
   ],
   "metadata": {
    "collapsed": false,
    "ExecuteTime": {
     "end_time": "2023-05-20T10:44:19.926062400Z",
     "start_time": "2023-05-20T10:44:19.029075700Z"
    }
   }
  },
  {
   "cell_type": "code",
   "execution_count": 36,
   "outputs": [],
   "source": [
    "X,y = get_normalized_X_y(df)"
   ],
   "metadata": {
    "collapsed": false,
    "ExecuteTime": {
     "end_time": "2023-05-20T10:44:19.985404500Z",
     "start_time": "2023-05-20T10:44:19.961215Z"
    }
   }
  },
  {
   "cell_type": "code",
   "execution_count": 37,
   "outputs": [
    {
     "data": {
      "text/plain": "        age    Income\n0 -1.097807 -0.679895\n1  0.299402 -1.169909\n2  1.397208 -0.986154\n3  1.796411 -1.292413\n4 -0.598804  0.698270\n5 -0.898205  0.177630\n6  0.099801  1.770177\n7 -0.199601  1.004529\n8 -1.397208  0.851400\n9  0.598804 -0.373636",
      "text/html": "<div>\n<style scoped>\n    .dataframe tbody tr th:only-of-type {\n        vertical-align: middle;\n    }\n\n    .dataframe tbody tr th {\n        vertical-align: top;\n    }\n\n    .dataframe thead th {\n        text-align: right;\n    }\n</style>\n<table border=\"1\" class=\"dataframe\">\n  <thead>\n    <tr style=\"text-align: right;\">\n      <th></th>\n      <th>age</th>\n      <th>Income</th>\n    </tr>\n  </thead>\n  <tbody>\n    <tr>\n      <th>0</th>\n      <td>-1.097807</td>\n      <td>-0.679895</td>\n    </tr>\n    <tr>\n      <th>1</th>\n      <td>0.299402</td>\n      <td>-1.169909</td>\n    </tr>\n    <tr>\n      <th>2</th>\n      <td>1.397208</td>\n      <td>-0.986154</td>\n    </tr>\n    <tr>\n      <th>3</th>\n      <td>1.796411</td>\n      <td>-1.292413</td>\n    </tr>\n    <tr>\n      <th>4</th>\n      <td>-0.598804</td>\n      <td>0.698270</td>\n    </tr>\n    <tr>\n      <th>5</th>\n      <td>-0.898205</td>\n      <td>0.177630</td>\n    </tr>\n    <tr>\n      <th>6</th>\n      <td>0.099801</td>\n      <td>1.770177</td>\n    </tr>\n    <tr>\n      <th>7</th>\n      <td>-0.199601</td>\n      <td>1.004529</td>\n    </tr>\n    <tr>\n      <th>8</th>\n      <td>-1.397208</td>\n      <td>0.851400</td>\n    </tr>\n    <tr>\n      <th>9</th>\n      <td>0.598804</td>\n      <td>-0.373636</td>\n    </tr>\n  </tbody>\n</table>\n</div>"
     },
     "execution_count": 37,
     "metadata": {},
     "output_type": "execute_result"
    }
   ],
   "source": [
    "X"
   ],
   "metadata": {
    "collapsed": false,
    "ExecuteTime": {
     "end_time": "2023-05-20T10:44:21.945951800Z",
     "start_time": "2023-05-20T10:44:20.970190600Z"
    }
   }
  },
  {
   "cell_type": "code",
   "execution_count": 38,
   "outputs": [
    {
     "data": {
      "text/plain": "((9, 2), (1, 2), (9,), (1,))"
     },
     "execution_count": 38,
     "metadata": {},
     "output_type": "execute_result"
    }
   ],
   "source": [
    "def train_test_data (X,y):\n",
    "    X_train, X_test, y_train, y_test = train_test_split(X, y, test_size=0.1, random_state=42)\n",
    "\n",
    "    return  X_train, X_test, y_train, y_test\n",
    "\n",
    "X_train, X_test, y_train, y_test = train_test_data(X,y)\n",
    "\n",
    "X_train.shape,X_test.shape, y_train.shape, y_test.shape"
   ],
   "metadata": {
    "collapsed": false,
    "ExecuteTime": {
     "end_time": "2023-05-20T10:44:21.993258500Z",
     "start_time": "2023-05-20T10:44:21.945951800Z"
    }
   }
  },
  {
   "cell_type": "code",
   "execution_count": 39,
   "outputs": [],
   "source": [
    "def knn_trainer(X_train, y_train, n):\n",
    "    knn = KNeighborsClassifier(n_neighbors=n)\n",
    "\n",
    "    knn.fit(X_train, y_train)\n",
    "\n",
    "    return knn\n",
    "knn = knn_trainer(X_train, y_train, n= 1)"
   ],
   "metadata": {
    "collapsed": false,
    "ExecuteTime": {
     "end_time": "2023-05-20T10:44:24.886997700Z",
     "start_time": "2023-05-20T10:44:24.871331Z"
    }
   }
  },
  {
   "cell_type": "code",
   "execution_count": 40,
   "outputs": [
    {
     "data": {
      "text/plain": "array([1], dtype=int64)"
     },
     "execution_count": 40,
     "metadata": {},
     "output_type": "execute_result"
    }
   ],
   "source": [
    "knn.predict(X_test)"
   ],
   "metadata": {
    "collapsed": false,
    "ExecuteTime": {
     "end_time": "2023-05-20T10:44:27.362044400Z",
     "start_time": "2023-05-20T10:44:27.346420200Z"
    }
   }
  },
  {
   "cell_type": "code",
   "execution_count": 41,
   "outputs": [
    {
     "data": {
      "text/plain": "0.0"
     },
     "execution_count": 41,
     "metadata": {},
     "output_type": "execute_result"
    }
   ],
   "source": [
    "knn.score(X_test, y_test)"
   ],
   "metadata": {
    "collapsed": false,
    "ExecuteTime": {
     "end_time": "2023-05-20T10:44:28.865962500Z",
     "start_time": "2023-05-20T10:44:28.850342100Z"
    }
   }
  },
  {
   "cell_type": "code",
   "execution_count": 42,
   "outputs": [
    {
     "data": {
      "text/plain": "        age  Income\n8 -1.397208  0.8514",
      "text/html": "<div>\n<style scoped>\n    .dataframe tbody tr th:only-of-type {\n        vertical-align: middle;\n    }\n\n    .dataframe tbody tr th {\n        vertical-align: top;\n    }\n\n    .dataframe thead th {\n        text-align: right;\n    }\n</style>\n<table border=\"1\" class=\"dataframe\">\n  <thead>\n    <tr style=\"text-align: right;\">\n      <th></th>\n      <th>age</th>\n      <th>Income</th>\n    </tr>\n  </thead>\n  <tbody>\n    <tr>\n      <th>8</th>\n      <td>-1.397208</td>\n      <td>0.8514</td>\n    </tr>\n  </tbody>\n</table>\n</div>"
     },
     "execution_count": 42,
     "metadata": {},
     "output_type": "execute_result"
    }
   ],
   "source": [
    "X_test"
   ],
   "metadata": {
    "collapsed": false,
    "ExecuteTime": {
     "end_time": "2023-05-20T10:44:32.526353300Z",
     "start_time": "2023-05-20T10:44:32.511138200Z"
    }
   }
  },
  {
   "cell_type": "code",
   "execution_count": 43,
   "outputs": [
    {
     "data": {
      "text/plain": "8    0\nName: target, dtype: int64"
     },
     "execution_count": 43,
     "metadata": {},
     "output_type": "execute_result"
    }
   ],
   "source": [
    "y_test"
   ],
   "metadata": {
    "collapsed": false,
    "ExecuteTime": {
     "end_time": "2023-05-20T10:44:34.899556900Z",
     "start_time": "2023-05-20T10:44:34.890548100Z"
    }
   }
  },
  {
   "cell_type": "code",
   "execution_count": 44,
   "outputs": [],
   "source": [
    "data2 = {'age': [50],\n",
    "         'Income': [80000]}\n",
    "\n",
    "df2 = pd.DataFrame(data2)"
   ],
   "metadata": {
    "collapsed": false,
    "ExecuteTime": {
     "end_time": "2023-05-20T10:44:38.356379400Z",
     "start_time": "2023-05-20T10:44:38.340724500Z"
    }
   }
  },
  {
   "cell_type": "code",
   "execution_count": 45,
   "outputs": [
    {
     "data": {
      "text/plain": "        age    Income\n0 -1.097807 -0.679895\n1  0.299402 -1.169909\n2  1.397208 -0.986154\n3  1.796411 -1.292413\n4 -0.598804  0.698270\n5 -0.898205  0.177630\n6  0.099801  1.770177\n7 -0.199601  1.004529\n8 -1.397208  0.851400\n9  0.598804 -0.373636",
      "text/html": "<div>\n<style scoped>\n    .dataframe tbody tr th:only-of-type {\n        vertical-align: middle;\n    }\n\n    .dataframe tbody tr th {\n        vertical-align: top;\n    }\n\n    .dataframe thead th {\n        text-align: right;\n    }\n</style>\n<table border=\"1\" class=\"dataframe\">\n  <thead>\n    <tr style=\"text-align: right;\">\n      <th></th>\n      <th>age</th>\n      <th>Income</th>\n    </tr>\n  </thead>\n  <tbody>\n    <tr>\n      <th>0</th>\n      <td>-1.097807</td>\n      <td>-0.679895</td>\n    </tr>\n    <tr>\n      <th>1</th>\n      <td>0.299402</td>\n      <td>-1.169909</td>\n    </tr>\n    <tr>\n      <th>2</th>\n      <td>1.397208</td>\n      <td>-0.986154</td>\n    </tr>\n    <tr>\n      <th>3</th>\n      <td>1.796411</td>\n      <td>-1.292413</td>\n    </tr>\n    <tr>\n      <th>4</th>\n      <td>-0.598804</td>\n      <td>0.698270</td>\n    </tr>\n    <tr>\n      <th>5</th>\n      <td>-0.898205</td>\n      <td>0.177630</td>\n    </tr>\n    <tr>\n      <th>6</th>\n      <td>0.099801</td>\n      <td>1.770177</td>\n    </tr>\n    <tr>\n      <th>7</th>\n      <td>-0.199601</td>\n      <td>1.004529</td>\n    </tr>\n    <tr>\n      <th>8</th>\n      <td>-1.397208</td>\n      <td>0.851400</td>\n    </tr>\n    <tr>\n      <th>9</th>\n      <td>0.598804</td>\n      <td>-0.373636</td>\n    </tr>\n  </tbody>\n</table>\n</div>"
     },
     "execution_count": 45,
     "metadata": {},
     "output_type": "execute_result"
    }
   ],
   "source": [
    "X"
   ],
   "metadata": {
    "collapsed": false,
    "ExecuteTime": {
     "end_time": "2023-05-20T10:44:39.668429500Z",
     "start_time": "2023-05-20T10:44:39.652806Z"
    }
   }
  },
  {
   "cell_type": "code",
   "execution_count": 46,
   "outputs": [
    {
     "data": {
      "text/plain": "array([1], dtype=int64)"
     },
     "execution_count": 46,
     "metadata": {},
     "output_type": "execute_result"
    }
   ],
   "source": [
    "knn.predict(df2)"
   ],
   "metadata": {
    "collapsed": false,
    "ExecuteTime": {
     "end_time": "2023-05-20T10:44:44.019764800Z",
     "start_time": "2023-05-20T10:44:44.003749200Z"
    }
   }
  },
  {
   "cell_type": "markdown",
   "source": [
    "### Ohne Skalieren"
   ],
   "metadata": {
    "collapsed": false
   }
  },
  {
   "cell_type": "code",
   "execution_count": 30,
   "outputs": [],
   "source": [
    "y = df.iloc[:,-1].squeeze()\n",
    "X = df.drop('target', axis=1)"
   ],
   "metadata": {
    "collapsed": false,
    "ExecuteTime": {
     "end_time": "2023-05-20T10:42:28.340648Z",
     "start_time": "2023-05-20T10:42:28.340648Z"
    }
   }
  },
  {
   "cell_type": "code",
   "execution_count": 31,
   "outputs": [],
   "source": [
    "X_train, X_test, y_train, y_test = train_test_data(X,y)"
   ],
   "metadata": {
    "collapsed": false,
    "ExecuteTime": {
     "end_time": "2023-05-20T10:42:45.009512300Z",
     "start_time": "2023-05-20T10:42:44.977777500Z"
    }
   }
  },
  {
   "cell_type": "code",
   "execution_count": 32,
   "outputs": [],
   "source": [
    "knn = knn_trainer(X_train, y_train, n= 1)"
   ],
   "metadata": {
    "collapsed": false,
    "ExecuteTime": {
     "end_time": "2023-05-20T10:42:59.509876500Z",
     "start_time": "2023-05-20T10:42:59.494250200Z"
    }
   }
  },
  {
   "cell_type": "code",
   "execution_count": 34,
   "outputs": [
    {
     "data": {
      "text/plain": "array([0], dtype=int64)"
     },
     "execution_count": 34,
     "metadata": {},
     "output_type": "execute_result"
    }
   ],
   "source": [
    "knn.predict(df2)"
   ],
   "metadata": {
    "collapsed": false,
    "ExecuteTime": {
     "end_time": "2023-05-20T10:43:59.786871700Z",
     "start_time": "2023-05-20T10:43:59.786871700Z"
    }
   }
  },
  {
   "cell_type": "code",
   "execution_count": null,
   "outputs": [],
   "source": [],
   "metadata": {
    "collapsed": false
   }
  }
 ],
 "metadata": {
  "kernelspec": {
   "display_name": "Python 3",
   "language": "python",
   "name": "python3"
  },
  "language_info": {
   "codemirror_mode": {
    "name": "ipython",
    "version": 2
   },
   "file_extension": ".py",
   "mimetype": "text/x-python",
   "name": "python",
   "nbconvert_exporter": "python",
   "pygments_lexer": "ipython2",
   "version": "2.7.6"
  }
 },
 "nbformat": 4,
 "nbformat_minor": 0
}
