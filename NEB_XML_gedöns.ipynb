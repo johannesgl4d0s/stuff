{
 "cells": [
  {
   "cell_type": "code",
   "execution_count": 1,
   "metadata": {},
   "outputs": [],
   "source": [
    "import pandas as pd\n",
    "\n",
    "#ein Excel mit Jahresprognosen bereitstellen"
   ]
  },
  {
   "cell_type": "code",
   "execution_count": 4,
   "metadata": {},
   "outputs": [],
   "source": [
    "df = pd.read_excel('NEB_Jahresprognosen.xlsx')\n",
    "\n",
    "df['till'] = df['Unnamed: 0'] + pd.Timedelta(days = 1)"
   ]
  },
  {
   "cell_type": "code",
   "execution_count": 12,
   "metadata": {},
   "outputs": [
    {
     "data": {
      "text/plain": [
       "Timestamp('2023-01-01 00:00:00')"
      ]
     },
     "execution_count": 12,
     "metadata": {},
     "output_type": "execute_result"
    }
   ],
   "source": [
    "df.columns = df.columns.str.replace(' ', '_')\n",
    "df.columns = df.columns.str.replace('ä', 'ae')\n",
    "df.columns = df.columns.str.replace('Ö', 'oe')\n",
    "df.columns = df.columns.str.replace('ö', 'oe')\n",
    "df.columns = df.columns.str.replace('&', '__')\n",
    "#df['till'] = df['till'] + pd.Timedelta(5, unit='h')\n",
    "#df['Unnamed:_0'] = df['Unnamed:_0']+ pd.Timedelta(5, unit='h')\n",
    "df['Unnamed:_0'][0]"
   ]
  },
  {
   "cell_type": "code",
   "execution_count": 14,
   "metadata": {},
   "outputs": [],
   "source": [
    "#Kompletter bs aber es funktioniert\n",
    "f= open(\"NEb_Jahresprognose2023.xml\",\"w+\")\n",
    "f.write('<?xml version=\"1.0\" encoding=\"UTF-8\" standalone=\"yes\"?>\\n<Data xmlns=\"http://www.visotech.at/XML/Periotheus\" xmlns:xsi=\"http://www.w3.org/2001/XMLSchema-instance\" xsi:schemaLocation=\"http://www.visotech.at/XML/Periotheus PTTimeseries.xsd\">')\n",
    "for x in df.columns[1:17]:\n",
    "    f.write('\\n<Timeseries>\\n<Header>\\n  <ObjectID>NEB' + x + '</ObjectID>\\n  <Unit>KWH</Unit>\\n  <Granularity>HOUR</Granularity>\\n</Header>\\n<Values>')\n",
    "    for i in range(len(df[x])): \n",
    "        f.write('\\n<Value  FromUTC=\"'+str(df['Unnamed:_0'][i])[:10] +'T05:00:00\" UntilUTC=\"' + str(df['till'][i])[:10] + 'T05:00:00\">'+str(round(df[x][i])) +'</Value>' )\n",
    "    f.write('\\n</Values>\\n</Timeseries>')\n",
    "f.write('</Data>')\n",
    "f.close()"
   ]
  },
  {
   "cell_type": "code",
   "execution_count": 45,
   "metadata": {},
   "outputs": [],
   "source": [
    "f.close()"
   ]
  },
  {
   "cell_type": "code",
   "execution_count": 11,
   "metadata": {},
   "outputs": [
    {
     "data": {
      "text/plain": [
       "'2023-01-01'"
      ]
     },
     "execution_count": 11,
     "metadata": {},
     "output_type": "execute_result"
    }
   ],
   "source": [
    "str(df['Unnamed: 0'][0])[:10]"
   ]
  },
  {
   "cell_type": "code",
   "execution_count": null,
   "metadata": {},
   "outputs": [],
   "source": [
    "print('hi')"
   ]
  },
  {
   "cell_type": "code",
   "execution_count": null,
   "metadata": {},
   "outputs": [],
   "source": []
  }
 ],
 "metadata": {
  "kernelspec": {
   "display_name": "Python 3",
   "language": "python",
   "name": "python3"
  },
  "language_info": {
   "codemirror_mode": {
    "name": "ipython",
    "version": 3
   },
   "file_extension": ".py",
   "mimetype": "text/x-python",
   "name": "python",
   "nbconvert_exporter": "python",
   "pygments_lexer": "ipython3",
   "version": "3.8.5"
  }
 },
 "nbformat": 4,
 "nbformat_minor": 5
}
