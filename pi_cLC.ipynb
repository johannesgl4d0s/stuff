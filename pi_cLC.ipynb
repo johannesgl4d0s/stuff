{
 "cells": [
  {
   "cell_type": "code",
   "execution_count": null,
   "metadata": {
    "collapsed": true
   },
   "outputs": [],
   "source": []
  },
  {
   "cell_type": "code",
   "execution_count": 10,
   "outputs": [
    {
     "name": "stdout",
     "output_type": "stream",
     "text": [
      "Final Estimation of Pi= 3.142008\n"
     ]
    }
   ],
   "source": [
    "import random\n",
    "\n",
    "INTERVAL = 1000\n",
    "\n",
    "circle_points = 0\n",
    "square_points = 0\n",
    "\n",
    "# Total Random numbers generated= possible x\n",
    "# values* possible y values\n",
    "for i in range(INTERVAL**2):\n",
    "\n",
    "    # Randomly generated x and y values from a\n",
    "    # uniform distribution\n",
    "    # Range of x and y values is -1 to 1\n",
    "    rand_x = random.uniform(-1, 1)\n",
    "    rand_y = random.uniform(-1, 1)\n",
    "\n",
    "    # Distance between (x, y) from the origin\n",
    "    origin_dist = rand_x**2 + rand_y**2\n",
    "\n",
    "\n",
    "    # Checking if (x, y) lies inside the circle\n",
    "    if origin_dist <= 1:\n",
    "        circle_points += 1\n",
    "\n",
    "    square_points += 1\n",
    "\n",
    "    # Estimating value of pi,\n",
    "    # pi= 4*(no. of points generated inside the\n",
    "    # circle)/ (no. of points generated inside the square)\n",
    "    pi = 4 * circle_points / square_points\n",
    "\n",
    "##    print(rand_x, rand_y, circle_points, square_points, \"-\", pi)\n",
    "# print(\"\\n\")\n",
    "\n",
    "print(\"Final Estimation of Pi=\", pi)"
   ],
   "metadata": {
    "collapsed": false,
    "ExecuteTime": {
     "start_time": "2023-05-06T14:26:16.087992Z",
     "end_time": "2023-05-06T14:26:16.928746Z"
    }
   }
  },
  {
   "cell_type": "code",
   "execution_count": 3,
   "outputs": [
    {
     "data": {
      "text/plain": "0.11587924431854169"
     },
     "execution_count": 3,
     "metadata": {},
     "output_type": "execute_result"
    }
   ],
   "source": [
    "random.uniform(-1, 1)"
   ],
   "metadata": {
    "collapsed": false,
    "ExecuteTime": {
     "start_time": "2023-05-06T14:21:26.047428Z",
     "end_time": "2023-05-06T14:21:26.062387Z"
    }
   }
  },
  {
   "cell_type": "code",
   "execution_count": 8,
   "outputs": [
    {
     "data": {
      "text/plain": "0.8047703254253166"
     },
     "execution_count": 8,
     "metadata": {},
     "output_type": "execute_result"
    }
   ],
   "source": [
    "rand_x = random.uniform(-1, 1)\n",
    "rand_y = random.uniform(-1, 1)\n",
    "\n",
    "# Distance between (x, y) from the origin\n",
    "origin_dist = rand_x**2 + rand_y**2\n",
    "\n",
    "origin_dist"
   ],
   "metadata": {
    "collapsed": false,
    "ExecuteTime": {
     "start_time": "2023-05-06T14:24:18.372478Z",
     "end_time": "2023-05-06T14:24:18.388828Z"
    }
   }
  },
  {
   "cell_type": "code",
   "execution_count": null,
   "outputs": [],
   "source": [],
   "metadata": {
    "collapsed": false
   }
  }
 ],
 "metadata": {
  "kernelspec": {
   "display_name": "Python 3",
   "language": "python",
   "name": "python3"
  },
  "language_info": {
   "codemirror_mode": {
    "name": "ipython",
    "version": 2
   },
   "file_extension": ".py",
   "mimetype": "text/x-python",
   "name": "python",
   "nbconvert_exporter": "python",
   "pygments_lexer": "ipython2",
   "version": "2.7.6"
  }
 },
 "nbformat": 4,
 "nbformat_minor": 0
}
