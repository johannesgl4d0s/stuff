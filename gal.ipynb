{
 "cells": [
  {
   "cell_type": "code",
   "execution_count": 33,
   "outputs": [],
   "source": [
    "from random import randint\n",
    "from collections import Counter\n",
    "\n",
    "\n",
    "nums = []\n",
    "amt = 10000000 #number of balls\n",
    "base = 11 #number of base slots\n",
    "offset = 0 #lowest slot number (don't change unless needed for statistical purposes)\n",
    "\n",
    "for i in range(amt):\n",
    "\tnum = 0\n",
    "\tfor j in range(base-1):\n",
    "\t\tlr = randint(0,1)\n",
    "\t\tnum += lr\n",
    "\tnums.append(num)\n",
    "\n",
    "nums = Counter(nums)"
   ],
   "metadata": {
    "collapsed": false,
    "ExecuteTime": {
     "start_time": "2023-05-08T19:42:23.022422Z",
     "end_time": "2023-05-08T19:44:00.562455Z"
    }
   }
  },
  {
   "cell_type": "code",
   "execution_count": 34,
   "outputs": [
    {
     "data": {
      "text/plain": "[0, 1, 2, 3, 4, 5, 6, 7, 8, 9, 10]"
     },
     "execution_count": 34,
     "metadata": {},
     "output_type": "execute_result"
    }
   ],
   "source": [
    "\n",
    "for i in range(base):\n",
    "\tif i not in nums:\n",
    "\t\tnums[i] = 0\n",
    "keys = sorted(nums.keys())\n",
    "\n",
    "keys"
   ],
   "metadata": {
    "collapsed": false,
    "ExecuteTime": {
     "start_time": "2023-05-08T19:44:00.563397Z",
     "end_time": "2023-05-08T19:44:00.580413Z"
    }
   }
  },
  {
   "cell_type": "code",
   "execution_count": 35,
   "outputs": [
    {
     "name": "stdout",
     "output_type": "stream",
     "text": [
      "The Galton Board:\n",
      "0:  9777\n",
      "1:  97249\n",
      "2:  439946\n",
      "3:  1171349\n",
      "4:  2051569\n",
      "5:  2460012\n",
      "6:  2050842\n",
      "7:  1172287\n",
      "8:  439420\n",
      "9:  97728\n",
      "10:  9821\n"
     ]
    }
   ],
   "source": [
    "\n",
    "\n",
    "\n",
    "print('The Galton Board:')\n",
    "for i in keys:\n",
    "\tamt = nums[i]\n",
    "\ti = str(i+offset)\n",
    "\tprint(i+': '+' '+str(amt))"
   ],
   "metadata": {
    "collapsed": false,
    "ExecuteTime": {
     "start_time": "2023-05-08T19:44:00.579383Z",
     "end_time": "2023-05-08T19:44:00.653705Z"
    }
   }
  },
  {
   "cell_type": "code",
   "execution_count": 23,
   "outputs": [
    {
     "data": {
      "text/plain": "1"
     },
     "execution_count": 23,
     "metadata": {},
     "output_type": "execute_result"
    }
   ],
   "source": [
    "v = str(nums[100])\n",
    "len(v)"
   ],
   "metadata": {
    "collapsed": false,
    "ExecuteTime": {
     "start_time": "2023-05-08T19:39:12.746364Z",
     "end_time": "2023-05-08T19:39:12.756412Z"
    }
   }
  },
  {
   "cell_type": "code",
   "execution_count": null,
   "outputs": [],
   "source": [],
   "metadata": {
    "collapsed": false
   }
  }
 ],
 "metadata": {
  "kernelspec": {
   "display_name": "Python 3",
   "language": "python",
   "name": "python3"
  },
  "language_info": {
   "codemirror_mode": {
    "name": "ipython",
    "version": 2
   },
   "file_extension": ".py",
   "mimetype": "text/x-python",
   "name": "python",
   "nbconvert_exporter": "python",
   "pygments_lexer": "ipython2",
   "version": "2.7.6"
  }
 },
 "nbformat": 4,
 "nbformat_minor": 0
}
